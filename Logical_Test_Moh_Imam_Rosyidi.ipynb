{
  "nbformat": 4,
  "nbformat_minor": 0,
  "metadata": {
    "colab": {
      "name": "Logical Test-Moh. Imam Rosyidi.ipynb",
      "provenance": [],
      "collapsed_sections": []
    },
    "kernelspec": {
      "name": "python3",
      "display_name": "Python 3"
    },
    "language_info": {
      "name": "python"
    }
  },
  "cells": [
    {
      "cell_type": "code",
      "metadata": {
        "colab": {
          "base_uri": "https://localhost:8080/"
        },
        "id": "j0rYbLEytszF",
        "outputId": "78b65c3f-8148-4a3e-cc87-a7324f31b5d6"
      },
      "source": [
        "list=[]\n",
        "for i in range(50):\n",
        "  i=i+1\n",
        "  if i%15==0:\n",
        "    list.append('Backend Frontend')\n",
        "  else:\n",
        "    angka = i%15\n",
        "    if angka%3==0:\n",
        "      list.append('Frontend')\n",
        "    elif angka%5==0:\n",
        "      list.append('Backend')\n",
        "    else:\n",
        "      list.append(i)\n",
        "      \n",
        "print(list)"
      ],
      "execution_count": null,
      "outputs": [
        {
          "output_type": "stream",
          "name": "stdout",
          "text": [
            "[1, 2, 'Frontend', 4, 'Backend', 'Frontend', 7, 8, 'Frontend', 'Backend', 11, 'Frontend', 13, 14, 'Backend Frontend', 16, 17, 'Frontend', 19, 'Backend', 'Frontend', 22, 23, 'Frontend', 'Backend', 26, 'Frontend', 28, 29, 'Backend Frontend', 31, 32, 'Frontend', 34, 'Backend', 'Frontend', 37, 38, 'Frontend', 'Backend', 41, 'Frontend', 43, 44, 'Backend Frontend', 46, 47, 'Frontend', 49, 'Backend']\n"
          ]
        }
      ]
    }
  ]
}